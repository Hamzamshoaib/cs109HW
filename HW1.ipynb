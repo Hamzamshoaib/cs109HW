{
 "cells": [
  {
   "cell_type": "markdown",
   "metadata": {},
   "source": [
    "# Homework 1. Exploratory Data Analysis\n",
    "\n",
    "Due: Thursday, September 18, 2014 11:59 PM\n",
    "\n",
    "<a href=https://raw.githubusercontent.com/cs109/2014/master/homework/HW1.ipynb download=HW1.ipynb> Download this assignment</a>\n",
    "\n",
    "---"
   ]
  },
  {
   "cell_type": "markdown",
   "metadata": {},
   "source": [
    "## Introduction\n",
    "\n",
    "In this homework we ask you three questions that we expect you to answer using data. For each question we ask you to complete a series of tasks that should help guide you through the data analysis. Complete these tasks and then write a short (100 words or less) answer to the question.\n",
    "\n",
    "**Note**: We will briefly discuss this homework assignment on Thursday in class.\n",
    "\n",
    "#### Data\n",
    "For this assignment we will use two databases: \n",
    "\n",
    "1. The [Sean Lahman's Baseball Database](http://seanlahman.com/baseball-archive/statistics) which contains the \"complete batting and pitching statistics from 1871 to 2013, plus fielding statistics, standings, team stats, managerial records, post-season data, and more. For more details on the latest release, please [read the documentation](http://seanlahman.com/files/database/readme2012.txt).\"\n",
    "\n",
    "2. [Gapminder](http://www.gapminder.org) is a great resource that contains over [500 data sets](http://www.gapminder.org/data/) related to world indicators such as income, GDP and life expectancy. \n",
    "\n",
    "\n",
    "#### Purpose\n",
    "\n",
    "In this assignment, you will learn how to: \n",
    "\n",
    "a. Load in CSV files from the web. \n",
    "\n",
    "b. Create functions in python. \n",
    "\n",
    "C. Create plots and summary statistics for exploratory data analysis such as histograms, boxplots and scatter plots. \n",
    "\n",
    "\n",
    "#### Useful libraries for this assignment \n",
    "\n",
    "* [numpy](http://docs.scipy.org/doc/numpy-dev/user/index.html), for arrays\n",
    "* [pandas](http://pandas.pydata.org/), for data frames\n",
    "* [matplotlib](http://matplotlib.org/), for plotting\n",
    "\n",
    "---"
   ]
  },
  {
   "cell_type": "code",
   "execution_count": 3,
   "metadata": {
    "collapsed": true
   },
   "outputs": [],
   "source": [
    "# special IPython command to prepare the notebook for matplotlib\n",
    "%matplotlib inline \n",
    "\n",
    "import numpy as np\n",
    "import pandas as pd\n",
    "import matplotlib.pyplot as plt"
   ]
  },
  {
   "cell_type": "markdown",
   "metadata": {},
   "source": [
    "## Problem 1\n",
    "\n",
    "In Lecture 1, we showed a plot that provided evidence that the 2002 and 2003 Oakland A's, a team that used data science, had a competitive advantage. Since, others teams have started using data science as well. Use exploratory data analysis to determine if the competitive advantage has since disappeared. "
   ]
  },
  {
   "cell_type": "markdown",
   "metadata": {},
   "source": [
    "#### Problem 1(a) \n",
    "Load in [these CSV files](http://seanlahman.com/files/database/lahman-csv_2014-02-14.zip) from the [Sean Lahman's Baseball Database](http://seanlahman.com/baseball-archive/statistics). For this assignment, we will use the 'Salaries.csv' and 'Teams.csv' tables. Read these tables into a pandas `DataFrame` and show the head of each table. \n",
    "\n",
    "**Hint** Use the [requests](http://docs.python-requests.org/en/latest/), [StringIO](http://docs.python.org/2/library/stringio.html) and [zipfile](https://docs.python.org/2/library/zipfile.html) modules to get from the web.  "
   ]
  },
  {
   "cell_type": "code",
   "execution_count": 4,
   "metadata": {
    "collapsed": true
   },
   "outputs": [],
   "source": [
    "#your code here\n",
    "import zipfile as zp\n",
    "import requests\n",
    "import io\n",
    "\n",
    "response = requests.get('http://seanlahman.com/files/database/lahman-csv_2014-02-14.zip')\n",
    "zipFile = zp.ZipFile(io.BytesIO(response.content))"
   ]
  },
  {
   "cell_type": "code",
   "execution_count": 5,
   "metadata": {},
   "outputs": [
    {
     "name": "stdout",
     "output_type": "stream",
     "text": [
      "   yearID teamID lgID   playerID   salary\n",
      "0    1985    BAL   AL  murraed02  1472819\n",
      "1    1985    BAL   AL   lynnfr01  1090000\n",
      "2    1985    BAL   AL  ripkeca01   800000\n",
      "3    1985    BAL   AL   lacyle01   725000\n",
      "4    1985    BAL   AL  flanami01   641667\n"
     ]
    }
   ],
   "source": [
    "#dir(zipFile)\n",
    "fileNames = zipFile.namelist()\n",
    "fileNames[fileNames.index('Teams.csv')]\n",
    "\n",
    "salaries = pd.read_csv(zipFile.open(fileNames[fileNames.index('Salaries.csv')]))\n",
    "print(salaries.head())"
   ]
  },
  {
   "cell_type": "code",
   "execution_count": 6,
   "metadata": {},
   "outputs": [
    {
     "name": "stdout",
     "output_type": "stream",
     "text": [
      "   yearID lgID teamID franchID divID  Rank   G  Ghome   W   L     ...       \\\n",
      "0    1871  NaN    PH1      PNA   NaN     1  28    NaN  21   7     ...        \n",
      "1    1871  NaN    CH1      CNA   NaN     2  28    NaN  19   9     ...        \n",
      "2    1871  NaN    BS1      BNA   NaN     3  31    NaN  20  10     ...        \n",
      "3    1871  NaN    WS3      OLY   NaN     4  32    NaN  15  15     ...        \n",
      "4    1871  NaN    NY2      NNA   NaN     5  33    NaN  16  17     ...        \n",
      "\n",
      "   DP    FP                     name                      park  attendance  \\\n",
      "0 NaN  0.84   Philadelphia Athletics  Jefferson Street Grounds         NaN   \n",
      "1 NaN  0.82  Chicago White Stockings   Union Base-Ball Grounds         NaN   \n",
      "2 NaN  0.83     Boston Red Stockings       South End Grounds I         NaN   \n",
      "3 NaN  0.85      Washington Olympics          Olympics Grounds         NaN   \n",
      "4 NaN  0.83         New York Mutuals  Union Grounds (Brooklyn)         NaN   \n",
      "\n",
      "   BPF  PPF  teamIDBR  teamIDlahman45  teamIDretro  \n",
      "0  102   98       ATH             PH1          PH1  \n",
      "1  104  102       CHI             CH1          CH1  \n",
      "2  103   98       BOS             BS1          BS1  \n",
      "3   94   98       OLY             WS3          WS3  \n",
      "4   90   88       NYU             NY2          NY2  \n",
      "\n",
      "[5 rows x 48 columns]\n"
     ]
    }
   ],
   "source": [
    "teams = pd.read_csv(zipFile.open(fileNames[fileNames.index('Teams.csv')]))\n",
    "print(teams.head())"
   ]
  },
  {
   "cell_type": "markdown",
   "metadata": {},
   "source": [
    "#### Problem 1(b)\n",
    "\n",
    "Summarize the Salaries DataFrame to show the total salaries for each team for each year. Show the head of the new summarized DataFrame. "
   ]
  },
  {
   "cell_type": "code",
   "execution_count": 31,
   "metadata": {},
   "outputs": [
    {
     "data": {
      "text/html": [
       "<div>\n",
       "<style>\n",
       "    .dataframe thead tr:only-child th {\n",
       "        text-align: right;\n",
       "    }\n",
       "\n",
       "    .dataframe thead th {\n",
       "        text-align: left;\n",
       "    }\n",
       "\n",
       "    .dataframe tbody tr th {\n",
       "        vertical-align: top;\n",
       "    }\n",
       "</style>\n",
       "<table border=\"1\" class=\"dataframe\">\n",
       "  <thead>\n",
       "    <tr style=\"text-align: right;\">\n",
       "      <th></th>\n",
       "      <th>yearID</th>\n",
       "      <th>teamID</th>\n",
       "      <th>salary</th>\n",
       "    </tr>\n",
       "  </thead>\n",
       "  <tbody>\n",
       "    <tr>\n",
       "      <th>0</th>\n",
       "      <td>1985</td>\n",
       "      <td>ATL</td>\n",
       "      <td>14807000</td>\n",
       "    </tr>\n",
       "    <tr>\n",
       "      <th>1</th>\n",
       "      <td>1985</td>\n",
       "      <td>BAL</td>\n",
       "      <td>11560712</td>\n",
       "    </tr>\n",
       "    <tr>\n",
       "      <th>2</th>\n",
       "      <td>1985</td>\n",
       "      <td>BOS</td>\n",
       "      <td>10897560</td>\n",
       "    </tr>\n",
       "    <tr>\n",
       "      <th>3</th>\n",
       "      <td>1985</td>\n",
       "      <td>CAL</td>\n",
       "      <td>14427894</td>\n",
       "    </tr>\n",
       "    <tr>\n",
       "      <th>4</th>\n",
       "      <td>1985</td>\n",
       "      <td>CHA</td>\n",
       "      <td>9846178</td>\n",
       "    </tr>\n",
       "  </tbody>\n",
       "</table>\n",
       "</div>"
      ],
      "text/plain": [
       "   yearID teamID    salary\n",
       "0    1985    ATL  14807000\n",
       "1    1985    BAL  11560712\n",
       "2    1985    BOS  10897560\n",
       "3    1985    CAL  14427894\n",
       "4    1985    CHA   9846178"
      ]
     },
     "execution_count": 31,
     "metadata": {},
     "output_type": "execute_result"
    }
   ],
   "source": [
    "#your code here\n",
    "totalSalaries = salaries.groupby(['yearID','teamID'], as_index=False).sum()\n",
    "totalSalaries.head()\n",
    "#totalSalaries = pd.merge(teams, salaries, on=['yearID','teamID'])\n",
    "#totalSalaries[['yearID','teamID','salary']]"
   ]
  },
  {
   "cell_type": "markdown",
   "metadata": {},
   "source": [
    "#### Problem 1(c)\n",
    "\n",
    "Merge the new summarized Salaries DataFrame and Teams DataFrame together to create a new DataFrame\n",
    "showing wins and total salaries for each team for each year year. Show the head of the new merged DataFrame.\n",
    "\n",
    "**Hint**: Merge the DataFrames using `teamID` and `yearID`."
   ]
  },
  {
   "cell_type": "code",
   "execution_count": 39,
   "metadata": {},
   "outputs": [
    {
     "data": {
      "text/html": [
       "<div>\n",
       "<style>\n",
       "    .dataframe thead tr:only-child th {\n",
       "        text-align: right;\n",
       "    }\n",
       "\n",
       "    .dataframe thead th {\n",
       "        text-align: left;\n",
       "    }\n",
       "\n",
       "    .dataframe tbody tr th {\n",
       "        vertical-align: top;\n",
       "    }\n",
       "</style>\n",
       "<table border=\"1\" class=\"dataframe\">\n",
       "  <thead>\n",
       "    <tr style=\"text-align: right;\">\n",
       "      <th></th>\n",
       "      <th>yearID</th>\n",
       "      <th>teamID</th>\n",
       "      <th>salary</th>\n",
       "      <th>W</th>\n",
       "    </tr>\n",
       "  </thead>\n",
       "  <tbody>\n",
       "    <tr>\n",
       "      <th>0</th>\n",
       "      <td>1985</td>\n",
       "      <td>ATL</td>\n",
       "      <td>14807000</td>\n",
       "      <td>66</td>\n",
       "    </tr>\n",
       "    <tr>\n",
       "      <th>1</th>\n",
       "      <td>1985</td>\n",
       "      <td>BAL</td>\n",
       "      <td>11560712</td>\n",
       "      <td>83</td>\n",
       "    </tr>\n",
       "    <tr>\n",
       "      <th>2</th>\n",
       "      <td>1985</td>\n",
       "      <td>BOS</td>\n",
       "      <td>10897560</td>\n",
       "      <td>81</td>\n",
       "    </tr>\n",
       "    <tr>\n",
       "      <th>3</th>\n",
       "      <td>1985</td>\n",
       "      <td>CAL</td>\n",
       "      <td>14427894</td>\n",
       "      <td>90</td>\n",
       "    </tr>\n",
       "    <tr>\n",
       "      <th>4</th>\n",
       "      <td>1985</td>\n",
       "      <td>CHA</td>\n",
       "      <td>9846178</td>\n",
       "      <td>85</td>\n",
       "    </tr>\n",
       "  </tbody>\n",
       "</table>\n",
       "</div>"
      ],
      "text/plain": [
       "   yearID teamID    salary   W\n",
       "0    1985    ATL  14807000  66\n",
       "1    1985    BAL  11560712  83\n",
       "2    1985    BOS  10897560  81\n",
       "3    1985    CAL  14427894  90\n",
       "4    1985    CHA   9846178  85"
      ]
     },
     "execution_count": 39,
     "metadata": {},
     "output_type": "execute_result"
    }
   ],
   "source": [
    "#your code here\n",
    "winSal = pd.merge(totalSalaries, teams,on=['yearID', 'teamID'])\n",
    "winSal[['yearID','teamID', 'salary','W']].head()"
   ]
  },
  {
   "cell_type": "markdown",
   "metadata": {},
   "source": [
    "#### Problem 1(d)\n",
    "\n",
    "How would you graphically display the relationship between total wins and total salaries for a given year? What kind of plot would be best? Choose a plot to show this relationship and specifically annotate the Oakland baseball team on the on the plot. Show this plot across multiple years. In which years can you detect a competitive advantage from the Oakland baseball team of using data science? When did this end? \n",
    "\n",
    "**Hints**: Use a `for` loop to consider multiple years. Use the `teamID` (three letter representation of the team name) to save space on the plot.  "
   ]
  },
  {
   "cell_type": "code",
   "execution_count": 45,
   "metadata": {},
   "outputs": [
    {
     "data": {
      "image/png": "[encoded data removed]",
      "text/plain": [
       "<matplotlib.figure.Figure at 0x10c816160>"
      ]
     },
     "metadata": {},
     "output_type": "display_data"
    },
    {
     "data": {
      "image/png": "[encoded data removed]",
      "text/plain": [
       "<matplotlib.figure.Figure at 0x14457a588>"
      ]
     },
     "metadata": {},
     "output_type": "display_data"
    },
    {
     "data": {
      "image/png": "[encoded data removed]",
      "text/plain": [
       "<matplotlib.figure.Figure at 0x117e5d438>"
      ]
     },
     "metadata": {},
     "output_type": "display_data"
    },
    {
     "data": {
      "image/png": "[encoded data removed]",
      "text/plain": [
       "<matplotlib.figure.Figure at 0x10c7ff630>"
      ]
     },
     "metadata": {},
     "output_type": "display_data"
    }
   ],
   "source": [
    "#your code here copied from the SOLUTIONS\n",
    "teamName = 'OAK'\n",
    "years = np.arange(2000, 2004)\n",
    "\n",
    "for yr in years: \n",
    "    df = winSal[winSal['yearID'] == yr]\n",
    "    plt.scatter(df['salary'] / 1e6, df['W'])\n",
    "    plt.title('Wins versus Salaries in year ' + str(yr))\n",
    "    plt.xlabel('Total Salary (in millions)')\n",
    "    plt.ylabel('Wins')\n",
    "    plt.xlim(0, 180)\n",
    "    plt.ylim(30, 130)\n",
    "    plt.grid()\n",
    "    plt.annotate(teamName, \n",
    "        xy = (df['salary'][df['teamID'] == teamName] / 1e6,  df['W'][df['teamID'] == teamName]), \n",
    "        xytext = (-20, 20), textcoords = 'offset points', ha = 'right', va = 'bottom',\n",
    "        bbox = dict(boxstyle = 'round,pad=0.5', fc = 'yellow', alpha = 0.5),\n",
    "        arrowprops = dict(arrowstyle = '->', facecolor = 'black' , connectionstyle = 'arc3,rad=0'))\n",
    "    \n",
    "    plt.show()"
   ]
  },
  {
   "cell_type": "markdown",
   "metadata": {},
   "source": [
    "#### Problem 1(e):\n",
    "\n",
    "**For AC209 Students**: Fit a linear regression to the data from each year and obtain the residuals. Plot the residuals against time to detect patterns that support your answer in 1(d). "
   ]
  },
  {
   "cell_type": "code",
   "execution_count": 5,
   "metadata": {
    "collapsed": true
   },
   "outputs": [],
   "source": [
    "#your code here"
   ]
  },
  {
   "cell_type": "markdown",
   "metadata": {},
   "source": [
    "## Discussion for Problem 1\n",
    "\n",
    "*Write a brief discussion of your conclusions to the questions and tasks above in 100 words or less.*\n",
    "\n",
    "---\n"
   ]
  },
  {
   "cell_type": "markdown",
   "metadata": {},
   "source": [
    "## Problem 2\n",
    "\n",
    "Several media reports have demonstrated the income inequality has increased in the US during this last decade. Here we will look at global data. Use exploratory data analysis to determine if the gap between Africa/Latin America/Asia and Europe/NorthAmerica has increased, decreased or stayed the same during the last two decades. "
   ]
  },
  {
   "cell_type": "markdown",
   "metadata": {},
   "source": [
    "#### Problem 2(a)\n",
    "\n",
    "Using the list of countries by continent from [World Atlas](http://www.worldatlas.com/cntycont.htm) data, load in the `countries.csv` file into a pandas DataFrame and name this data set as `countries`.  This data set can be found on Github in the 2014_data repository [here](https://github.com/cs109/2014_data/blob/master/countries.csv). "
   ]
  },
  {
   "cell_type": "code",
   "execution_count": 5,
   "metadata": {},
   "outputs": [
    {
     "data": {
      "text/html": [
       "<div>\n",
       "<style>\n",
       "    .dataframe thead tr:only-child th {\n",
       "        text-align: right;\n",
       "    }\n",
       "\n",
       "    .dataframe thead th {\n",
       "        text-align: left;\n",
       "    }\n",
       "\n",
       "    .dataframe tbody tr th {\n",
       "        vertical-align: top;\n",
       "    }\n",
       "</style>\n",
       "<table border=\"1\" class=\"dataframe\">\n",
       "  <thead>\n",
       "    <tr style=\"text-align: right;\">\n",
       "      <th></th>\n",
       "      <th>Country</th>\n",
       "      <th>Region</th>\n",
       "    </tr>\n",
       "  </thead>\n",
       "  <tbody>\n",
       "    <tr>\n",
       "      <th>0</th>\n",
       "      <td>Algeria</td>\n",
       "      <td>AFRICA</td>\n",
       "    </tr>\n",
       "    <tr>\n",
       "      <th>1</th>\n",
       "      <td>Angola</td>\n",
       "      <td>AFRICA</td>\n",
       "    </tr>\n",
       "    <tr>\n",
       "      <th>2</th>\n",
       "      <td>Benin</td>\n",
       "      <td>AFRICA</td>\n",
       "    </tr>\n",
       "    <tr>\n",
       "      <th>3</th>\n",
       "      <td>Botswana</td>\n",
       "      <td>AFRICA</td>\n",
       "    </tr>\n",
       "    <tr>\n",
       "      <th>4</th>\n",
       "      <td>Burkina</td>\n",
       "      <td>AFRICA</td>\n",
       "    </tr>\n",
       "  </tbody>\n",
       "</table>\n",
       "</div>"
      ],
      "text/plain": [
       "    Country  Region\n",
       "0   Algeria  AFRICA\n",
       "1    Angola  AFRICA\n",
       "2     Benin  AFRICA\n",
       "3  Botswana  AFRICA\n",
       "4   Burkina  AFRICA"
      ]
     },
     "execution_count": 5,
     "metadata": {},
     "output_type": "execute_result"
    }
   ],
   "source": [
    "#your code here\n",
    "\n",
    "countries = pd.read_csv('https://raw.githubusercontent.com/cs109/2014_data/master/countries.csv')\n",
    "countries.head()"
   ]
  },
  {
   "cell_type": "markdown",
   "metadata": {},
   "source": [
    "Using the [data available on Gapminder](http://www.gapminder.org/data/), load in the [Income per person (GDP/capita, PPP$ inflation-adjusted)](https://spreadsheets.google.com/pub?key=phAwcNAVuyj1jiMAkmq1iMg&gid=0) as a pandas DataFrame and name this data set as `income`.\n",
    "\n",
    "**Hint**: Consider using the pandas function `pandas.read_excel()` to read in the .xlsx file directly."
   ]
  },
  {
   "cell_type": "code",
   "execution_count": 6,
   "metadata": {},
   "outputs": [
    {
     "data": {
      "text/html": [
       "<div>\n",
       "<style>\n",
       "    .dataframe thead tr:only-child th {\n",
       "        text-align: right;\n",
       "    }\n",
       "\n",
       "    .dataframe thead th {\n",
       "        text-align: left;\n",
       "    }\n",
       "\n",
       "    .dataframe tbody tr th {\n",
       "        vertical-align: top;\n",
       "    }\n",
       "</style>\n",
       "<table border=\"1\" class=\"dataframe\">\n",
       "  <thead>\n",
       "    <tr style=\"text-align: right;\">\n",
       "      <th></th>\n",
       "      <th>GDP per capita</th>\n",
       "      <th>1800</th>\n",
       "      <th>1801</th>\n",
       "      <th>1802</th>\n",
       "      <th>1803</th>\n",
       "      <th>1804</th>\n",
       "      <th>1805</th>\n",
       "      <th>1806</th>\n",
       "      <th>1807</th>\n",
       "      <th>1808</th>\n",
       "      <th>...</th>\n",
       "      <th>2006</th>\n",
       "      <th>2007</th>\n",
       "      <th>2008</th>\n",
       "      <th>2009</th>\n",
       "      <th>2010</th>\n",
       "      <th>2011</th>\n",
       "      <th>2012</th>\n",
       "      <th>2013</th>\n",
       "      <th>2014</th>\n",
       "      <th>2015</th>\n",
       "    </tr>\n",
       "  </thead>\n",
       "  <tbody>\n",
       "    <tr>\n",
       "      <th>0</th>\n",
       "      <td>Abkhazia</td>\n",
       "      <td>NaN</td>\n",
       "      <td>NaN</td>\n",
       "      <td>NaN</td>\n",
       "      <td>NaN</td>\n",
       "      <td>NaN</td>\n",
       "      <td>NaN</td>\n",
       "      <td>NaN</td>\n",
       "      <td>NaN</td>\n",
       "      <td>NaN</td>\n",
       "      <td>...</td>\n",
       "      <td>NaN</td>\n",
       "      <td>NaN</td>\n",
       "      <td>NaN</td>\n",
       "      <td>NaN</td>\n",
       "      <td>NaN</td>\n",
       "      <td>NaN</td>\n",
       "      <td>NaN</td>\n",
       "      <td>NaN</td>\n",
       "      <td>NaN</td>\n",
       "      <td>NaN</td>\n",
       "    </tr>\n",
       "    <tr>\n",
       "      <th>1</th>\n",
       "      <td>Afghanistan</td>\n",
       "      <td>603.0</td>\n",
       "      <td>603.0</td>\n",
       "      <td>603.0</td>\n",
       "      <td>603.0</td>\n",
       "      <td>603.0</td>\n",
       "      <td>603.0</td>\n",
       "      <td>603.0</td>\n",
       "      <td>603.0</td>\n",
       "      <td>603.0</td>\n",
       "      <td>...</td>\n",
       "      <td>1173.0</td>\n",
       "      <td>1298.0</td>\n",
       "      <td>1311.0</td>\n",
       "      <td>1548.0</td>\n",
       "      <td>1637.0</td>\n",
       "      <td>1695.0</td>\n",
       "      <td>1893.0</td>\n",
       "      <td>1884.0</td>\n",
       "      <td>1877.0</td>\n",
       "      <td>1925.0</td>\n",
       "    </tr>\n",
       "    <tr>\n",
       "      <th>2</th>\n",
       "      <td>Akrotiri and Dhekelia</td>\n",
       "      <td>NaN</td>\n",
       "      <td>NaN</td>\n",
       "      <td>NaN</td>\n",
       "      <td>NaN</td>\n",
       "      <td>NaN</td>\n",
       "      <td>NaN</td>\n",
       "      <td>NaN</td>\n",
       "      <td>NaN</td>\n",
       "      <td>NaN</td>\n",
       "      <td>...</td>\n",
       "      <td>NaN</td>\n",
       "      <td>NaN</td>\n",
       "      <td>NaN</td>\n",
       "      <td>NaN</td>\n",
       "      <td>NaN</td>\n",
       "      <td>NaN</td>\n",
       "      <td>NaN</td>\n",
       "      <td>NaN</td>\n",
       "      <td>NaN</td>\n",
       "      <td>NaN</td>\n",
       "    </tr>\n",
       "    <tr>\n",
       "      <th>3</th>\n",
       "      <td>Albania</td>\n",
       "      <td>667.0</td>\n",
       "      <td>667.0</td>\n",
       "      <td>668.0</td>\n",
       "      <td>668.0</td>\n",
       "      <td>668.0</td>\n",
       "      <td>668.0</td>\n",
       "      <td>668.0</td>\n",
       "      <td>668.0</td>\n",
       "      <td>668.0</td>\n",
       "      <td>...</td>\n",
       "      <td>7476.0</td>\n",
       "      <td>7977.0</td>\n",
       "      <td>8644.0</td>\n",
       "      <td>8994.0</td>\n",
       "      <td>9374.0</td>\n",
       "      <td>9640.0</td>\n",
       "      <td>9811.0</td>\n",
       "      <td>9961.0</td>\n",
       "      <td>10160.0</td>\n",
       "      <td>10620.0</td>\n",
       "    </tr>\n",
       "    <tr>\n",
       "      <th>4</th>\n",
       "      <td>Algeria</td>\n",
       "      <td>716.0</td>\n",
       "      <td>716.0</td>\n",
       "      <td>717.0</td>\n",
       "      <td>718.0</td>\n",
       "      <td>719.0</td>\n",
       "      <td>720.0</td>\n",
       "      <td>721.0</td>\n",
       "      <td>722.0</td>\n",
       "      <td>723.0</td>\n",
       "      <td>...</td>\n",
       "      <td>12088.0</td>\n",
       "      <td>12289.0</td>\n",
       "      <td>12314.0</td>\n",
       "      <td>12285.0</td>\n",
       "      <td>12494.0</td>\n",
       "      <td>12606.0</td>\n",
       "      <td>12779.0</td>\n",
       "      <td>12893.0</td>\n",
       "      <td>13179.0</td>\n",
       "      <td>13434.0</td>\n",
       "    </tr>\n",
       "  </tbody>\n",
       "</table>\n",
       "<p>5 rows × 217 columns</p>\n",
       "</div>"
      ],
      "text/plain": [
       "          GDP per capita   1800   1801   1802   1803   1804   1805   1806  \\\n",
       "0               Abkhazia    NaN    NaN    NaN    NaN    NaN    NaN    NaN   \n",
       "1            Afghanistan  603.0  603.0  603.0  603.0  603.0  603.0  603.0   \n",
       "2  Akrotiri and Dhekelia    NaN    NaN    NaN    NaN    NaN    NaN    NaN   \n",
       "3                Albania  667.0  667.0  668.0  668.0  668.0  668.0  668.0   \n",
       "4                Algeria  716.0  716.0  717.0  718.0  719.0  720.0  721.0   \n",
       "\n",
       "    1807   1808   ...        2006     2007     2008     2009     2010  \\\n",
       "0    NaN    NaN   ...         NaN      NaN      NaN      NaN      NaN   \n",
       "1  603.0  603.0   ...      1173.0   1298.0   1311.0   1548.0   1637.0   \n",
       "2    NaN    NaN   ...         NaN      NaN      NaN      NaN      NaN   \n",
       "3  668.0  668.0   ...      7476.0   7977.0   8644.0   8994.0   9374.0   \n",
       "4  722.0  723.0   ...     12088.0  12289.0  12314.0  12285.0  12494.0   \n",
       "\n",
       "      2011     2012     2013     2014     2015  \n",
       "0      NaN      NaN      NaN      NaN      NaN  \n",
       "1   1695.0   1893.0   1884.0   1877.0   1925.0  \n",
       "2      NaN      NaN      NaN      NaN      NaN  \n",
       "3   9640.0   9811.0   9961.0  10160.0  10620.0  \n",
       "4  12606.0  12779.0  12893.0  13179.0  13434.0  \n",
       "\n",
       "[5 rows x 217 columns]"
      ]
     },
     "execution_count": 6,
     "metadata": {},
     "output_type": "execute_result"
    }
   ],
   "source": [
    "#your code here\n",
    "income = pd.read_excel('https://docs.google.com/spreadsheets/d/1PybxH399kK6OjJI4T2M33UsLqgutwj3SuYbk7Yt6sxE/pub?output=xlsx')\n",
    "income.head()"
   ]
  },
  {
   "cell_type": "markdown",
   "metadata": {},
   "source": [
    "Transform the data set to have years as the rows and countries as the columns. Show the head of this data set when it is loaded. "
   ]
  },
  {
   "cell_type": "code",
   "execution_count": 71,
   "metadata": {},
   "outputs": [
    {
     "data": {
      "text/html": [
       "<div>\n",
       "<style>\n",
       "    .dataframe thead tr:only-child th {\n",
       "        text-align: right;\n",
       "    }\n",
       "\n",
       "    .dataframe thead th {\n",
       "        text-align: left;\n",
       "    }\n",
       "\n",
       "    .dataframe tbody tr th {\n",
       "        vertical-align: top;\n",
       "    }\n",
       "</style>\n",
       "<table border=\"1\" class=\"dataframe\">\n",
       "  <thead>\n",
       "    <tr style=\"text-align: right;\">\n",
       "      <th>GDP per capita</th>\n",
       "      <th>Abkhazia</th>\n",
       "      <th>Afghanistan</th>\n",
       "      <th>Akrotiri and Dhekelia</th>\n",
       "      <th>Albania</th>\n",
       "      <th>Algeria</th>\n",
       "      <th>American Samoa</th>\n",
       "      <th>Andorra</th>\n",
       "      <th>Angola</th>\n",
       "      <th>Anguilla</th>\n",
       "      <th>Antigua and Barbuda</th>\n",
       "      <th>...</th>\n",
       "      <th>North Yemen (former)</th>\n",
       "      <th>South Yemen (former)</th>\n",
       "      <th>Yemen</th>\n",
       "      <th>Yugoslavia</th>\n",
       "      <th>Zambia</th>\n",
       "      <th>Zimbabwe</th>\n",
       "      <th>Åland</th>\n",
       "      <th>South Sudan</th>\n",
       "      <th>nan</th>\n",
       "      <th>nan</th>\n",
       "    </tr>\n",
       "  </thead>\n",
       "  <tbody>\n",
       "    <tr>\n",
       "      <th>1800</th>\n",
       "      <td>NaN</td>\n",
       "      <td>603.0</td>\n",
       "      <td>NaN</td>\n",
       "      <td>667.0</td>\n",
       "      <td>716.0</td>\n",
       "      <td>NaN</td>\n",
       "      <td>1197.0</td>\n",
       "      <td>618.0</td>\n",
       "      <td>NaN</td>\n",
       "      <td>757.0</td>\n",
       "      <td>...</td>\n",
       "      <td>NaN</td>\n",
       "      <td>NaN</td>\n",
       "      <td>877.0</td>\n",
       "      <td>NaN</td>\n",
       "      <td>663.0</td>\n",
       "      <td>869.0</td>\n",
       "      <td>NaN</td>\n",
       "      <td>507.0</td>\n",
       "      <td>NaN</td>\n",
       "      <td>NaN</td>\n",
       "    </tr>\n",
       "    <tr>\n",
       "      <th>1801</th>\n",
       "      <td>NaN</td>\n",
       "      <td>603.0</td>\n",
       "      <td>NaN</td>\n",
       "      <td>667.0</td>\n",
       "      <td>716.0</td>\n",
       "      <td>NaN</td>\n",
       "      <td>1199.0</td>\n",
       "      <td>620.0</td>\n",
       "      <td>NaN</td>\n",
       "      <td>757.0</td>\n",
       "      <td>...</td>\n",
       "      <td>NaN</td>\n",
       "      <td>NaN</td>\n",
       "      <td>879.0</td>\n",
       "      <td>NaN</td>\n",
       "      <td>665.0</td>\n",
       "      <td>870.0</td>\n",
       "      <td>NaN</td>\n",
       "      <td>507.0</td>\n",
       "      <td>NaN</td>\n",
       "      <td>NaN</td>\n",
       "    </tr>\n",
       "    <tr>\n",
       "      <th>1802</th>\n",
       "      <td>NaN</td>\n",
       "      <td>603.0</td>\n",
       "      <td>NaN</td>\n",
       "      <td>668.0</td>\n",
       "      <td>717.0</td>\n",
       "      <td>NaN</td>\n",
       "      <td>1201.0</td>\n",
       "      <td>623.0</td>\n",
       "      <td>NaN</td>\n",
       "      <td>757.0</td>\n",
       "      <td>...</td>\n",
       "      <td>NaN</td>\n",
       "      <td>NaN</td>\n",
       "      <td>882.0</td>\n",
       "      <td>NaN</td>\n",
       "      <td>667.0</td>\n",
       "      <td>871.0</td>\n",
       "      <td>NaN</td>\n",
       "      <td>507.0</td>\n",
       "      <td>NaN</td>\n",
       "      <td>NaN</td>\n",
       "    </tr>\n",
       "    <tr>\n",
       "      <th>1803</th>\n",
       "      <td>NaN</td>\n",
       "      <td>603.0</td>\n",
       "      <td>NaN</td>\n",
       "      <td>668.0</td>\n",
       "      <td>718.0</td>\n",
       "      <td>NaN</td>\n",
       "      <td>1204.0</td>\n",
       "      <td>626.0</td>\n",
       "      <td>NaN</td>\n",
       "      <td>757.0</td>\n",
       "      <td>...</td>\n",
       "      <td>NaN</td>\n",
       "      <td>NaN</td>\n",
       "      <td>884.0</td>\n",
       "      <td>NaN</td>\n",
       "      <td>668.0</td>\n",
       "      <td>872.0</td>\n",
       "      <td>NaN</td>\n",
       "      <td>507.0</td>\n",
       "      <td>NaN</td>\n",
       "      <td>NaN</td>\n",
       "    </tr>\n",
       "    <tr>\n",
       "      <th>1804</th>\n",
       "      <td>NaN</td>\n",
       "      <td>603.0</td>\n",
       "      <td>NaN</td>\n",
       "      <td>668.0</td>\n",
       "      <td>719.0</td>\n",
       "      <td>NaN</td>\n",
       "      <td>1206.0</td>\n",
       "      <td>628.0</td>\n",
       "      <td>NaN</td>\n",
       "      <td>757.0</td>\n",
       "      <td>...</td>\n",
       "      <td>NaN</td>\n",
       "      <td>NaN</td>\n",
       "      <td>887.0</td>\n",
       "      <td>NaN</td>\n",
       "      <td>670.0</td>\n",
       "      <td>873.0</td>\n",
       "      <td>NaN</td>\n",
       "      <td>508.0</td>\n",
       "      <td>NaN</td>\n",
       "      <td>NaN</td>\n",
       "    </tr>\n",
       "  </tbody>\n",
       "</table>\n",
       "<p>5 rows × 262 columns</p>\n",
       "</div>"
      ],
      "text/plain": [
       "GDP per capita  Abkhazia  Afghanistan  Akrotiri and Dhekelia  Albania  \\\n",
       "1800                 NaN        603.0                    NaN    667.0   \n",
       "1801                 NaN        603.0                    NaN    667.0   \n",
       "1802                 NaN        603.0                    NaN    668.0   \n",
       "1803                 NaN        603.0                    NaN    668.0   \n",
       "1804                 NaN        603.0                    NaN    668.0   \n",
       "\n",
       "GDP per capita  Algeria  American Samoa  Andorra  Angola  Anguilla  \\\n",
       "1800              716.0             NaN   1197.0   618.0       NaN   \n",
       "1801              716.0             NaN   1199.0   620.0       NaN   \n",
       "1802              717.0             NaN   1201.0   623.0       NaN   \n",
       "1803              718.0             NaN   1204.0   626.0       NaN   \n",
       "1804              719.0             NaN   1206.0   628.0       NaN   \n",
       "\n",
       "GDP per capita  Antigua and Barbuda ...   North Yemen (former)  \\\n",
       "1800                          757.0 ...                    NaN   \n",
       "1801                          757.0 ...                    NaN   \n",
       "1802                          757.0 ...                    NaN   \n",
       "1803                          757.0 ...                    NaN   \n",
       "1804                          757.0 ...                    NaN   \n",
       "\n",
       "GDP per capita  South Yemen (former)  Yemen  Yugoslavia  Zambia  Zimbabwe  \\\n",
       "1800                             NaN  877.0         NaN   663.0     869.0   \n",
       "1801                             NaN  879.0         NaN   665.0     870.0   \n",
       "1802                             NaN  882.0         NaN   667.0     871.0   \n",
       "1803                             NaN  884.0         NaN   668.0     872.0   \n",
       "1804                             NaN  887.0         NaN   670.0     873.0   \n",
       "\n",
       "GDP per capita  Åland  South Sudan  NaN  NaN  \n",
       "1800              NaN        507.0  NaN  NaN  \n",
       "1801              NaN        507.0  NaN  NaN  \n",
       "1802              NaN        507.0  NaN  NaN  \n",
       "1803              NaN        507.0  NaN  NaN  \n",
       "1804              NaN        508.0  NaN  NaN  \n",
       "\n",
       "[5 rows x 262 columns]"
      ]
     },
     "execution_count": 71,
     "metadata": {},
     "output_type": "execute_result"
    }
   ],
   "source": [
    "#your code here\n",
    "incomeT = income.set_index('GDP per capita').transpose()\n",
    "incomeT.head()\n",
    "#incomeT['GDP per capita']"
   ]
  },
  {
   "cell_type": "markdown",
   "metadata": {},
   "source": [
    "#### Problem 2(b)\n",
    "\n",
    "Graphically display the distribution of income per person across all countries in the world for any given year (e.g. 2000).  What kind of plot would be best? "
   ]
  },
  {
   "cell_type": "code",
   "execution_count": 33,
   "metadata": {},
   "outputs": [
    {
     "data": {
      "text/plain": [
       "<matplotlib.text.Text at 0x1159c4198>"
      ]
     },
     "execution_count": 33,
     "metadata": {},
     "output_type": "execute_result"
    },
    {
     "data": {
      "image/png": "[encoded data removed]",
      "text/plain": [
       "<matplotlib.figure.Figure at 0x114915e10>"
      ]
     },
     "metadata": {},
     "output_type": "display_data"
    }
   ],
   "source": [
    "#your code here\n",
    "year = 2000\n",
    "\n",
    "plt.figure(1)\n",
    "plt.hist(incomeT.loc[year].dropna().values, bins=20)\n",
    "plt.title('Distribution of Income Per Person')\n",
    "plt.xlabel('Income per Person')\n",
    "plt.ylabel('Frequency')"
   ]
  },
  {
   "cell_type": "markdown",
   "metadata": {},
   "source": [
    "#### Problem 2(c)\n",
    "\n",
    "Write a function to merge the `countries` and `income` data sets for any given year. "
   ]
  },
  {
   "cell_type": "code",
   "execution_count": 72,
   "metadata": {},
   "outputs": [
    {
     "data": {
      "text/html": [
       "<div>\n",
       "<style>\n",
       "    .dataframe thead tr:only-child th {\n",
       "        text-align: right;\n",
       "    }\n",
       "\n",
       "    .dataframe thead th {\n",
       "        text-align: left;\n",
       "    }\n",
       "\n",
       "    .dataframe tbody tr th {\n",
       "        vertical-align: top;\n",
       "    }\n",
       "</style>\n",
       "<table border=\"1\" class=\"dataframe\">\n",
       "  <thead>\n",
       "    <tr style=\"text-align: right;\">\n",
       "      <th></th>\n",
       "      <th>Country</th>\n",
       "      <th>Region</th>\n",
       "      <th>Year</th>\n",
       "    </tr>\n",
       "  </thead>\n",
       "  <tbody>\n",
       "    <tr>\n",
       "      <th>0</th>\n",
       "      <td>Afghanistan</td>\n",
       "      <td>ASIA</td>\n",
       "      <td>1637.0</td>\n",
       "    </tr>\n",
       "    <tr>\n",
       "      <th>1</th>\n",
       "      <td>Albania</td>\n",
       "      <td>EUROPE</td>\n",
       "      <td>9374.0</td>\n",
       "    </tr>\n",
       "    <tr>\n",
       "      <th>2</th>\n",
       "      <td>Algeria</td>\n",
       "      <td>AFRICA</td>\n",
       "      <td>12494.0</td>\n",
       "    </tr>\n",
       "    <tr>\n",
       "      <th>3</th>\n",
       "      <td>Andorra</td>\n",
       "      <td>EUROPE</td>\n",
       "      <td>38982.0</td>\n",
       "    </tr>\n",
       "    <tr>\n",
       "      <th>4</th>\n",
       "      <td>Angola</td>\n",
       "      <td>AFRICA</td>\n",
       "      <td>7047.0</td>\n",
       "    </tr>\n",
       "  </tbody>\n",
       "</table>\n",
       "</div>"
      ],
      "text/plain": [
       "       Country  Region     Year\n",
       "0  Afghanistan    ASIA   1637.0\n",
       "1      Albania  EUROPE   9374.0\n",
       "2      Algeria  AFRICA  12494.0\n",
       "3      Andorra  EUROPE  38982.0\n",
       "4       Angola  AFRICA   7047.0"
      ]
     },
     "execution_count": 72,
     "metadata": {},
     "output_type": "execute_result"
    }
   ],
   "source": [
    "\"\"\"\n",
    "Function\n",
    "--------\n",
    "mergeByYear\n",
    "\n",
    "Return a merged DataFrame containing the income, \n",
    "country name and region for a given year. \n",
    "\n",
    "Parameters\n",
    "----------\n",
    "year : int\n",
    "    The year of interest\n",
    "\n",
    "Returns\n",
    "-------\n",
    "a DataFrame\n",
    "   A pandas DataFrame with three columns titled \n",
    "   'Country', 'Region', and 'Income'. \n",
    "\n",
    "Example\n",
    "-------\n",
    ">>> mergeByYear(2010)\n",
    "\"\"\"\n",
    "#your code here\n",
    "def mergeByYear(year):\n",
    "    df = pd.merge(income, countries, how='inner',left_on='GDP per capita', right_on='Country')[['GDP per capita', 'Region', year]]\n",
    "    return df.rename(columns={year:'Year','GDP per capita':'Country'})\n",
    "\n",
    "mergeByYear(2010).head()"
   ]
  },
  {
   "cell_type": "markdown",
   "metadata": {},
   "source": [
    "#### Problem 2(d) \n",
    "\n",
    "Use exploratory data analysis tools such as histograms and boxplots to explore the distribution of the income per person by region data set from 2(c) for a given year. Describe how these change through the recent years?\n",
    "\n",
    "**Hint**: Use a `for` loop to consider multiple years.  "
   ]
  },
  {
   "cell_type": "code",
   "execution_count": 11,
   "metadata": {
    "collapsed": true
   },
   "outputs": [],
   "source": [
    "#your code here"
   ]
  },
  {
   "cell_type": "markdown",
   "metadata": {},
   "source": [
    "## Discussion for Problem 2\n",
    "\n",
    "*Write a brief discussion of your conclusions to the questions and tasks above in 100 words or less.*\n",
    "\n",
    "---\n"
   ]
  },
  {
   "cell_type": "markdown",
   "metadata": {},
   "source": [
    "## Problem 3\n",
    "\n",
    "In general, if group A has larger values than group B on average, does this mean the largest values are from group A? Discuss after completing each of the problems below. "
   ]
  },
  {
   "cell_type": "markdown",
   "metadata": {},
   "source": [
    "#### Problem 3(a)\n",
    "\n",
    "Assume you have two list of numbers, X and Y, with distribution approximately normal. X and Y have standard deviation equal to 1, but the average of X is different from the average of Y.  If the difference in the average of X and the average of Y is larger than 0, how does the proportion of X > a compare to the proportion of Y > a? "
   ]
  },
  {
   "cell_type": "markdown",
   "metadata": {},
   "source": [
    "Write a function that analytically calculates the ratio of these two proportions: Pr(X > a)/Pr(Y > a) as function of the difference in the average of X and the average of Y. \n",
    "\n",
    "**Hint**: Use the `scipy.stats` module for useful functions related to a normal random variable such as the probability density function, cumulative distribution function and survival function. \n",
    "\n",
    "**Update**: Assume Y is normally distributed with mean equal to 0. "
   ]
  },
  {
   "cell_type": "markdown",
   "metadata": {},
   "source": [
    "Show the curve for different values of a (a = 2,3,4 and 5)."
   ]
  },
  {
   "cell_type": "code",
   "execution_count": null,
   "metadata": {
    "collapsed": true
   },
   "outputs": [],
   "source": [
    "\"\"\"\n",
    "Function\n",
    "--------\n",
    "ratioNormals\n",
    "\n",
    "Return ratio of these two proportions: \n",
    "    Pr(X > a)/Pr(Y > a) as function of \n",
    "    the difference in the average of X \n",
    "    and the average of Y. \n",
    "\n",
    "Parameters\n",
    "----------\n",
    "diff : difference in the average of X \n",
    "    and the average of Y. \n",
    "a : cutoff value\n",
    "\n",
    "Returns\n",
    "-------\n",
    "Returns ratio of these two proportions: \n",
    "    Pr(X > a)/Pr(Y > a)\n",
    "    \n",
    "Example\n",
    "-------\n",
    ">>> ratioNormals(diff = 1, a = 2)\n",
    "\"\"\"\n",
    "#your code here"
   ]
  },
  {
   "cell_type": "code",
   "execution_count": 13,
   "metadata": {
    "collapsed": true
   },
   "outputs": [],
   "source": [
    "#your code here"
   ]
  },
  {
   "cell_type": "markdown",
   "metadata": {},
   "source": [
    "#### Problem 3(b)\n",
    "\n",
    "Now consider the distribution of income per person from two regions: Asia and South America. Estimate the average income per person across the countries in those two regions. Which region has the larger average of income per person across the countries in that region? \n",
    "\n",
    "**Update**: Use the year 2012. "
   ]
  },
  {
   "cell_type": "code",
   "execution_count": 14,
   "metadata": {
    "collapsed": true
   },
   "outputs": [],
   "source": [
    "#your code here"
   ]
  },
  {
   "cell_type": "markdown",
   "metadata": {},
   "source": [
    "#### Problem 3(c) \n",
    "\n",
    "Calculate the proportion of countries with income per person that is greater than 10,000 dollars. Which region has a larger proportion of countries with income per person greater than 10,000 dollars? If the answer here is different from the answer in 3(b), explain why in light of your answer to 3(a).\n",
    "\n",
    "**Update**: Use the year 2012. "
   ]
  },
  {
   "cell_type": "code",
   "execution_count": 15,
   "metadata": {
    "collapsed": true
   },
   "outputs": [],
   "source": [
    "#your code here"
   ]
  },
  {
   "cell_type": "markdown",
   "metadata": {},
   "source": [
    "#### Problem 3(d)\n",
    "\n",
    "**For AC209 Students**: Re-run this analysis in Problem 3 but compute the average income per person for each region, instead of the average of the reported incomes per person across countries in the region. Why are these two different? Hint: use this [data set](https://spreadsheets.google.com/pub?key=phAwcNAVuyj0XOoBL_n5tAQ&gid=0). "
   ]
  },
  {
   "cell_type": "code",
   "execution_count": 16,
   "metadata": {
    "collapsed": true
   },
   "outputs": [],
   "source": [
    "#your code here"
   ]
  },
  {
   "cell_type": "markdown",
   "metadata": {},
   "source": [
    "## Discussion for Problem 3\n",
    "\n",
    "*Write a brief discussion of your conclusions to the questions and tasks above in 100 words or less.*\n",
    "\n",
    "---\n"
   ]
  }
 ],
 "metadata": {
  "kernelspec": {
   "display_name": "Python 3",
   "language": "python",
   "name": "python3"
  },
  "language_info": {
   "codemirror_mode": {
    "name": "ipython",
    "version": 3
   },
   "file_extension": ".py",
   "mimetype": "text/x-python",
   "name": "python",
   "nbconvert_exporter": "python",
   "pygments_lexer": "ipython3",
   "version": "3.6.1"
  }
 },
 "nbformat": 4,
 "nbformat_minor": 1
}
